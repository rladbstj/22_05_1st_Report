{
  "nbformat": 4,
  "nbformat_minor": 0,
  "metadata": {
    "colab": {
      "provenance": [],
      "authorship_tag": "ABX9TyMh18GeMi3T5jjT1CPxKK7/",
      "include_colab_link": true
    },
    "kernelspec": {
      "name": "python3",
      "display_name": "Python 3"
    },
    "language_info": {
      "name": "python"
    }
  },
  "cells": [
    {
      "cell_type": "markdown",
      "metadata": {
        "id": "view-in-github",
        "colab_type": "text"
      },
      "source": [
        "<a href=\"https://colab.research.google.com/github/rladbstj/22_05_1st_Report/blob/main/basic_python221028.ipynb\" target=\"_parent\"><img src=\"https://colab.research.google.com/assets/colab-badge.svg\" alt=\"Open In Colab\"/></a>"
      ]
    },
    {
      "cell_type": "markdown",
      "source": [
        "1. 사용자로부터 두 개의 정수를 받아서 정수의 합, 정수의 차, 정수의 곱, 정수의 평균, 큰 수, 작은 수를 계산하여 화면에 출력하는 프로그램을 작성하라. 파이썬이 제공하는 내장 함수 max(x,y), min(x,y)을 사용해보자."
      ],
      "metadata": {
        "id": "mDPiLqtxdtwj"
      }
    },
    {
      "cell_type": "code",
      "execution_count": 4,
      "metadata": {
        "colab": {
          "base_uri": "https://localhost:8080/"
        },
        "id": "kCrGdp2RaJU2",
        "outputId": "cec3cde4-29e1-4725-8e2b-29a5f09e59e8"
      },
      "outputs": [
        {
          "output_type": "stream",
          "name": "stdout",
          "text": [
            "x의 값은?:9\n",
            "y의 값은?:6\n",
            "두수의 합은 : 15\n",
            "두수의 차는 : 3\n",
            "두수의 곱은 : 54\n",
            "두수의 평균은 : 7.5\n",
            "큰 수는? : 9\n",
            "작은 수는? : 6\n"
          ]
        }
      ],
      "source": [
        "x = int(input(\"x의 값은?:\"))\n",
        "y = int(input(\"y의 값은?:\"))\n",
        "print(\"두수의 합은 :\", x+y )\n",
        "print(\"두수의 차는 :\", x-y) \n",
        "print(\"두수의 곱은 :\", x*y)\n",
        "print(\"두수의 평균은 :\",(x+y)/2)\n",
        "print(\"큰 수는? :\", max(x,y))\n",
        "print(\"작은 수는? :\", min(x,y) )\n"
      ]
    },
    {
      "cell_type": "markdown",
      "source": [
        "2. 원기둥의 부피를 계산하는 프로그랩을 작성해보자. 원기둥의 부피는 다옴과 같이 계산 한다"
      ],
      "metadata": {
        "id": "3ZrUPgMRbLIQ"
      }
    },
    {
      "cell_type": "code",
      "source": [
        "r = float(input(\"r값은? : \"))\n",
        "h = float(input(\"h값은? : \"))\n",
        "\n",
        "vol = 3.141592 * r**2 * h\n",
        "print(\"원기둥의 부피는 :\", vol)\n"
      ],
      "metadata": {
        "colab": {
          "base_uri": "https://localhost:8080/"
        },
        "id": "SWQ75lDyag1b",
        "outputId": "fea15200-94b5-4369-83bf-0dab0538d526"
      },
      "execution_count": 7,
      "outputs": [
        {
          "output_type": "stream",
          "name": "stdout",
          "text": [
            "r값은? : 10\n",
            "h값은? : 10\n",
            "원기둥의 부피는 : 3141.592\n"
          ]
        }
      ]
    }
  ]
}