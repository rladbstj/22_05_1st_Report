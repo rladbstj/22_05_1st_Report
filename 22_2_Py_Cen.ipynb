{
  "nbformat": 4,
  "nbformat_minor": 0,
  "metadata": {
    "colab": {
      "provenance": [],
      "authorship_tag": "ABX9TyMZV/HXmZhrLUmHNlLsmD8q",
      "include_colab_link": true
    },
    "kernelspec": {
      "name": "python3",
      "display_name": "Python 3"
    },
    "language_info": {
      "name": "python"
    }
  },
  "cells": [
    {
      "cell_type": "markdown",
      "metadata": {
        "id": "view-in-github",
        "colab_type": "text"
      },
      "source": [
        "<a href=\"https://colab.research.google.com/github/rladbstj/22_05_1st_Report/blob/main/22_2_Py_Cen.ipynb\" target=\"_parent\"><img src=\"https://colab.research.google.com/assets/colab-badge.svg\" alt=\"Open In Colab\"/></a>"
      ]
    },
    {
      "cell_type": "markdown",
      "source": [
        "19. 다음 보기의 사직연산을 완성하시오. 한줄에 모두, 여러줄로 나누어서, 보기좋게 정리\n"
      ],
      "metadata": {
        "id": "wWFvHzX_TkD9"
      }
    },
    {
      "cell_type": "code",
      "execution_count": 1,
      "metadata": {
        "colab": {
          "base_uri": "https://localhost:8080/"
        },
        "id": "HscuDpfpTjjc",
        "outputId": "fb774e46-f193-45c2-e4c9-24cb84a335b0"
      },
      "outputs": [
        {
          "output_type": "stream",
          "name": "stdout",
          "text": [
            "3 -1 12 1.0\n"
          ]
        }
      ],
      "source": [
        "print(1+2, 2-3, 3*4, 4/4)"
      ]
    },
    {
      "cell_type": "markdown",
      "source": [
        "20. 아래의 출력화면을 간결하고 보기좋게 코딩하시오.\n",
        "****************************************\n",
        "* 제 1조 1항 대한민국은 민주공화국이다.*\n",
        "****************************************\n"
      ],
      "metadata": {
        "id": "gLuIYPCuUs-_"
      }
    },
    {
      "cell_type": "code",
      "source": [
        "print(\"*\"* 40)\n",
        "print(\"*제1조 1항 대한민국은 민주공화국이다.*\")\n",
        "print(\"*\"* 40)\n",
        "\n"
      ],
      "metadata": {
        "colab": {
          "base_uri": "https://localhost:8080/"
        },
        "id": "VWDFnep3VDBe",
        "outputId": "d96f85e4-6335-49b9-9641-d372f0d39d7d"
      },
      "execution_count": 2,
      "outputs": [
        {
          "output_type": "stream",
          "name": "stdout",
          "text": [
            "****************************************\n",
            "*제1조 1항 대한민국은 민주공화국이다.*\n",
            "****************************************\n"
          ]
        }
      ]
    },
    {
      "cell_type": "markdown",
      "source": [
        "21. 사용자에게 성명, 나이, 주소를 입력받아서 출력하라.\n"
      ],
      "metadata": {
        "id": "iD7lPOqxWAIw"
      }
    },
    {
      "cell_type": "code",
      "source": [
        "name = input(\"이름을 입력하시오.:\")\n",
        "age = input(\"나이를 입력하시오.:\")\n",
        "addr = input(\"주소를 입력하시오.:\")\n",
        "print(name)\n",
        "print(age)\n",
        "print(addr)"
      ],
      "metadata": {
        "colab": {
          "base_uri": "https://localhost:8080/"
        },
        "id": "XI3L1fm2WO_v",
        "outputId": "c0908ff9-c107-431a-9b27-57e5c31ececb"
      },
      "execution_count": 3,
      "outputs": [
        {
          "output_type": "stream",
          "name": "stdout",
          "text": [
            "이름을 입력하시오.:김윤서\n",
            "나이를 입력하시오.:20\n",
            "주소를 입력하시오.:전북 남원시\n",
            "김윤서\n",
            "20\n",
            "전북 남원시\n"
          ]
        }
      ]
    },
    {
      "cell_type": "markdown",
      "source": [
        "29."
      ],
      "metadata": {
        "id": "TLqKbV_DZray"
      }
    },
    {
      "cell_type": "code",
      "source": [
        "n1 = input(\"첫번째 정수를 입렧하세요.:\")\n",
        "n2 = input(\"두번째 정수를 입렧하세요.:\")\n",
        "print(\"두 합의 값은\", n1+n2, \"입니다.\")"
      ],
      "metadata": {
        "colab": {
          "base_uri": "https://localhost:8080/"
        },
        "id": "xQM85rKBZt3K",
        "outputId": "d290e4ea-102f-43e0-8f74-62df1a49855b"
      },
      "execution_count": 5,
      "outputs": [
        {
          "output_type": "stream",
          "name": "stdout",
          "text": [
            "첫번째 정수를 입렧하세요.:100\n",
            "두번째 정수를 입렧하세요.:100\n",
            "두 합의 값은 100100 입니다.\n"
          ]
        }
      ]
    },
    {
      "cell_type": "code",
      "source": [
        "n1 = int(input(\"첫번째 정수를 입렧하세요.:\"))\n",
        "n2 = int(input(\"두번째 정수를 입렧하세요.:\"))\n",
        "print(\"두 합의 값은\", n1+n2, \"입니다.\")"
      ],
      "metadata": {
        "colab": {
          "base_uri": "https://localhost:8080/"
        },
        "id": "Q_Z8Nv7qagfn",
        "outputId": "e5c53409-a5b7-4dd5-df43-dbf0b7f60805"
      },
      "execution_count": 6,
      "outputs": [
        {
          "output_type": "stream",
          "name": "stdout",
          "text": [
            "첫번째 정수를 입렧하세요.:100\n",
            "두번째 정수를 입렧하세요.:100\n",
            "두 합의 값은 200 입니다.\n"
          ]
        }
      ]
    }
  ]
}